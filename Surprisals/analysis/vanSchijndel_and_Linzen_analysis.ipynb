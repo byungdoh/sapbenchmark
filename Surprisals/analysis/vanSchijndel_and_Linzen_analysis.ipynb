{
 "cells": [
  {
   "cell_type": "code",
   "execution_count": 102,
   "id": "98406690",
   "metadata": {},
   "outputs": [],
   "source": [
    "library(ggplot2)\n",
    "library(plyr)\n",
    "library(dplyr)\n",
    "library(tidyr)\n",
    "library(lme4)\n",
    "library(lmerTest)\n",
    "library(stringr)"
   ]
  },
  {
   "cell_type": "code",
   "execution_count": 103,
   "id": "98515fc0",
   "metadata": {},
   "outputs": [],
   "source": [
    "# Load in SPR and surprisal data for a subset\n",
    "\n",
    "spr <- read.csv(\"./Fillers.csv\")\n",
    "spr$Sentence <- str_replace_all(spr$Sentence, \"%2C\", \",\")\n",
    "spr <- spr %>% filter(RT<=7000) \n",
    "\n",
    "surps <- read.csv(\"../data/gulordava/items_filler.lstm.csv\")\n",
    "surps[surps$surprisal == -1,]$surprisal <- NA # recode NA surprisals as real NAs\n",
    "surps$word_pos = surps$word_pos + 1# adjust to 1-indexing\n",
    "\n",
    "\n",
    "# Load in frequencies from the Gulordava Wikipedia corpus\n",
    "freqs <- read.csv(\"./freqs.csv\")\n"
   ]
  },
  {
   "cell_type": "code",
   "execution_count": 104,
   "id": "6faf17fa",
   "metadata": {},
   "outputs": [],
   "source": [
    "# merge the two dfs such that we have the relevant surprisal and frequency with each rt\n",
    "\n",
    "merged.freqs <- merge(x=spr, y=freqs, by.x=\"EachWord\", by.y=\"word\", all.x=TRUE)\n",
    "merged.surps <- merge(x=merged.freqs, y=surps, \n",
    "                      by.x=c(\"Sentence\", \"WordPosition\"), by.y=c(\"Sentence\", \"word_pos\"), all.x=TRUE)"
   ]
  },
  {
   "cell_type": "code",
   "execution_count": 105,
   "id": "7cca88eb",
   "metadata": {},
   "outputs": [],
   "source": [
    "# Store properties of past words in each row (going back 3 words)\n",
    "\n",
    "merged.with_lags <- merged.surps %>% group_by_at(vars(Sentence, MD5)) %>%\n",
    "                    mutate(RT_p1 = lag(RT), \n",
    "                           RT_p2 = lag(RT_p1), \n",
    "                           RT_p3 = lag(RT_p2),\n",
    "                           length = nchar(EachWord),\n",
    "                           length_p1 = lag(length), \n",
    "                           length_p2 = lag(length_p1),\n",
    "                           length_p3 = lag(length_p2),\n",
    "                           logfreq = log(count),\n",
    "                           logfreq_p1 = lag(logfreq), \n",
    "                           logfreq_p2 = lag(logfreq_p1),\n",
    "                           logfreq_p3 = lag(logfreq_p2),\n",
    "                           surprisal_p1 = lag(surprisal),\n",
    "                           surprisal_p2 = lag(surprisal_p1),\n",
    "                           surprisal_p3 = lag(surprisal_p2)\n",
    "                  )"
   ]
  },
  {
   "cell_type": "code",
   "execution_count": 106,
   "id": "ee164e0e",
   "metadata": {},
   "outputs": [
    {
     "name": "stdout",
     "output_type": "stream",
     "text": [
      "[1] 1403522\n",
      "[1] 435894\n"
     ]
    }
   ],
   "source": [
    "# drop rows with missing data (surprisals for past 3 words and freqs for past 3 words)\n",
    "\n",
    "merged.drop <- subset(merged.with_lags, !is.na(surprisal) & !is.na(surprisal_p1) & \n",
    "                                        !is.na(surprisal_p2) & !is.na(surprisal_p3) &\n",
    "                                        !is.na(logfreq) & !is.na(logfreq_p1) &\n",
    "                                        !is.na(logfreq_p2) & !is.na(logfreq_p3))\n",
    "\n",
    "# print number of remaining rows\n",
    "print(nrow(merged.with_lags))\n",
    "print(nrow(merged.drop))\n"
   ]
  },
  {
   "cell_type": "code",
   "execution_count": 107,
   "id": "eb8423a6",
   "metadata": {},
   "outputs": [
    {
     "name": "stderr",
     "output_type": "stream",
     "text": [
      "\n",
      "Correlation matrix not shown by default, as p = 18 > 12.\n",
      "Use print(obj, correlation=TRUE)  or\n",
      "    vcov(obj)        if you need it\n",
      "\n",
      "\n"
     ]
    },
    {
     "data": {
      "text/plain": [
       "Linear mixed model fit by REML. t-tests use Satterthwaite's method [\n",
       "lmerModLmerTest]\n",
       "Formula: RT ~ surprisal + surprisal_p1 + surprisal_p2 + surprisal_p3 +  \n",
       "    WordPosition + logfreq * length + logfreq_p1 * length_p1 +  \n",
       "    logfreq_p2 * length_p2 + logfreq_p3 * length_p3 + (1 | MD5)\n",
       "   Data: merged.drop\n",
       "\n",
       "REML criterion at convergence: 5674196\n",
       "\n",
       "Scaled residuals: \n",
       "   Min     1Q Median     3Q    Max \n",
       "-5.231 -0.411 -0.129  0.196 40.341 \n",
       "\n",
       "Random effects:\n",
       " Groups   Name        Variance Std.Dev.\n",
       " MD5      (Intercept)  9435     97.13  \n",
       " Residual             25830    160.72  \n",
       "Number of obs: 435894, groups:  MD5, 2000\n",
       "\n",
       "Fixed effects:\n",
       "                       Estimate Std. Error         df t value Pr(>|t|)    \n",
       "(Intercept)           2.279e+02  7.690e+00  1.919e+05  29.633  < 2e-16 ***\n",
       "surprisal             2.732e+00  1.104e-01  4.339e+05  24.758  < 2e-16 ***\n",
       "surprisal_p1          3.356e+00  1.127e-01  4.339e+05  29.771  < 2e-16 ***\n",
       "surprisal_p2          2.001e+00  1.098e-01  4.339e+05  18.223  < 2e-16 ***\n",
       "surprisal_p3          1.226e+00  1.053e-01  4.339e+05  11.641  < 2e-16 ***\n",
       "WordPosition         -1.726e+00  5.003e-02  4.339e+05 -34.506  < 2e-16 ***\n",
       "logfreq               8.435e-01  2.313e-01  4.339e+05   3.646 0.000266 ***\n",
       "length                4.958e+00  4.551e-01  4.339e+05  10.894  < 2e-16 ***\n",
       "logfreq_p1            1.584e+00  2.500e-01  4.339e+05   6.335 2.37e-10 ***\n",
       "length_p1             5.417e+00  4.819e-01  4.339e+05  11.240  < 2e-16 ***\n",
       "logfreq_p2            2.557e+00  2.531e-01  4.339e+05  10.105  < 2e-16 ***\n",
       "length_p2             4.918e+00  4.809e-01  4.339e+05  10.227  < 2e-16 ***\n",
       "logfreq_p3            1.391e+00  2.281e-01  4.339e+05   6.097 1.08e-09 ***\n",
       "length_p3             1.790e+00  4.145e-01  4.339e+05   4.318 1.58e-05 ***\n",
       "logfreq:length        5.545e-02  4.750e-02  4.339e+05   1.167 0.243031    \n",
       "logfreq_p1:length_p1 -1.409e-01  5.006e-02  4.339e+05  -2.815 0.004881 ** \n",
       "logfreq_p2:length_p2 -4.120e-01  5.049e-02  4.339e+05  -8.159 3.39e-16 ***\n",
       "logfreq_p3:length_p3 -1.691e-01  4.403e-02  4.339e+05  -3.840 0.000123 ***\n",
       "---\n",
       "Signif. codes:  0 '***' 0.001 '**' 0.01 '*' 0.05 '.' 0.1 ' ' 1"
      ]
     },
     "metadata": {},
     "output_type": "display_data"
    }
   ],
   "source": [
    "models.filler <- lmer(data=merged.drop,\n",
    "                      RT ~ surprisal + surprisal_p1 + surprisal_p2 + surprisal_p3 +\n",
    "                           WordPosition + logfreq*length + logfreq_p1*length_p1 + \n",
    "                           logfreq_p2*length_p2 + logfreq_p3*length_p3 + (1 | MD5))\n",
    "summary(models.filler) \n",
    "\n",
    "saveRDS(models.filler, \"filler_lm.rds\")"
   ]
  },
  {
   "cell_type": "code",
   "execution_count": 108,
   "id": "87dc1a89",
   "metadata": {},
   "outputs": [],
   "source": [
    "# Now that we've fit a model on the fillers, load in and predict on criticals\n",
    "\n",
    "agree.spr <- read.csv(\"./AgreementSet.csv\")\n",
    "agree.spr$Sentence <- str_replace_all(agree.spr$Sentence, \"%2C\", \",\")\n",
    "agree.spr <- agree.spr %>% filter(RT<=7000) \n",
    "\n",
    "agree.surps <- read.csv(\"../data/gulordava/items_agreement.lstm.csv\")\n",
    "agree.surps[agree.surps$surprisal == -1,]$surprisal <- NA # recode NA surprisals as real NAs\n",
    "agree.surps$word_pos = agree.surps$word_pos + 1# adjust to 1-indexing\n"
   ]
  },
  {
   "cell_type": "code",
   "execution_count": 109,
   "id": "ef2bd048",
   "metadata": {},
   "outputs": [],
   "source": [
    "agree.freqs <- merge(x=agree.spr, y=freqs, by.x=\"EachWord\", by.y=\"word\", all.x=TRUE)\n",
    "agree.surps <- merge(x=agree.freqs, y=agree.surps, \n",
    "                      by.x=c(\"Sentence\", \"WordPosition\"), by.y=c(\"Sentence\", \"word_pos\"), all.x=TRUE)\n"
   ]
  },
  {
   "cell_type": "code",
   "execution_count": 110,
   "id": "38f4f115",
   "metadata": {},
   "outputs": [],
   "source": [
    "agree.with_lags <-  agree.surps %>% group_by_at(vars(Sentence, MD5)) %>%\n",
    "                    mutate(RT_p1 = lag(RT), \n",
    "                           RT_p2 = lag(RT_p1), \n",
    "                           RT_p3 = lag(RT_p2),\n",
    "                           length = nchar(EachWord),\n",
    "                           length_p1 = lag(length), \n",
    "                           length_p2 = lag(length_p1),\n",
    "                           length_p3 = lag(length_p2),\n",
    "                           logfreq = log(count),\n",
    "                           logfreq_p1 = lag(logfreq), \n",
    "                           logfreq_p2 = lag(logfreq_p1),\n",
    "                           logfreq_p3 = lag(logfreq_p2),\n",
    "                           surprisal_p1 = lag(surprisal),\n",
    "                           surprisal_p2 = lag(surprisal_p1),\n",
    "                           surprisal_p3 = lag(surprisal_p2)\n",
    "                  )"
   ]
  },
  {
   "cell_type": "code",
   "execution_count": 111,
   "id": "758a2760",
   "metadata": {},
   "outputs": [
    {
     "name": "stdout",
     "output_type": "stream",
     "text": [
      "[1] 420676\n",
      "[1] 76829\n"
     ]
    }
   ],
   "source": [
    "agree.drop <- subset(agree.with_lags, !is.na(surprisal) & !is.na(surprisal_p1) & \n",
    "                                        !is.na(surprisal_p2) & !is.na(surprisal_p3) &\n",
    "                                        !is.na(logfreq) & !is.na(logfreq_p1) &\n",
    "                                        !is.na(logfreq_p2) & !is.na(logfreq_p3))\n",
    "\n",
    "# print number of remaining rows\n",
    "print(nrow(agree.with_lags))\n",
    "print(nrow(agree.drop))"
   ]
  },
  {
   "cell_type": "code",
   "execution_count": 112,
   "id": "e3c69bb4",
   "metadata": {},
   "outputs": [],
   "source": [
    "agree.drop$predicted <- predict(models.filler, newdata=agree.drop)"
   ]
  },
  {
   "cell_type": "code",
   "execution_count": 113,
   "id": "8fbf11ef",
   "metadata": {},
   "outputs": [
    {
     "data": {
      "text/html": [
       "<table class=\"dataframe\">\n",
       "<caption>A grouped_df: 6 x 52</caption>\n",
       "<thead>\n",
       "\t<tr><th scope=col>Sentence</th><th scope=col>WordPosition</th><th scope=col>EachWord</th><th scope=col>Time</th><th scope=col>MD5</th><th scope=col>Type</th><th scope=col>EventTime</th><th scope=col>Question.x</th><th scope=col>Answer</th><th scope=col>List</th><th scope=col>...</th><th scope=col>length_p2</th><th scope=col>length_p3</th><th scope=col>logfreq</th><th scope=col>logfreq_p1</th><th scope=col>logfreq_p2</th><th scope=col>logfreq_p3</th><th scope=col>surprisal_p1</th><th scope=col>surprisal_p2</th><th scope=col>surprisal_p3</th><th scope=col>predicted</th></tr>\n",
       "\t<tr><th scope=col>&lt;chr&gt;</th><th scope=col>&lt;int&gt;</th><th scope=col>&lt;chr&gt;</th><th scope=col>&lt;int&gt;</th><th scope=col>&lt;chr&gt;</th><th scope=col>&lt;chr&gt;</th><th scope=col>&lt;dbl&gt;</th><th scope=col>&lt;chr&gt;</th><th scope=col>&lt;int&gt;</th><th scope=col>&lt;chr&gt;</th><th scope=col>...</th><th scope=col>&lt;int&gt;</th><th scope=col>&lt;int&gt;</th><th scope=col>&lt;dbl&gt;</th><th scope=col>&lt;dbl&gt;</th><th scope=col>&lt;dbl&gt;</th><th scope=col>&lt;dbl&gt;</th><th scope=col>&lt;dbl&gt;</th><th scope=col>&lt;dbl&gt;</th><th scope=col>&lt;dbl&gt;</th><th scope=col>&lt;dbl&gt;</th></tr>\n",
       "</thead>\n",
       "<tbody>\n",
       "\t<tr><td>After the diplomat signs, the agreement creates another border conflict as a side effect.</td><td>8</td><td>another</td><td>1639090449</td><td>23bb47ffc97720f565f97e9644e95124</td><td>AGREE</td><td>1.63909e+12</td><td>Does the agreement lead to peace?</td><td>0</td><td> f </td><td>...</td><td>9</td><td>3</td><td>10.4001</td><td>7.354362</td><td>8.817594</td><td>15.46925</td><td>8.870157</td><td>8.932127</td><td>1.84974</td><td>564.4141</td></tr>\n",
       "\t<tr><td>After the diplomat signs, the agreement creates another border conflict as a side effect.</td><td>8</td><td>another</td><td>1635868863</td><td>d29c1f4fdda6be958fa6edad3a6241b1</td><td>AGREE</td><td>1.64000e+12</td><td>Does the agreement lead to peace?</td><td>0</td><td> f </td><td>...</td><td>9</td><td>3</td><td>10.4001</td><td>7.354362</td><td>8.817594</td><td>15.46925</td><td>8.870157</td><td>8.932127</td><td>1.84974</td><td>406.8969</td></tr>\n",
       "\t<tr><td>After the diplomat signs, the agreement creates another border conflict as a side effect.</td><td>8</td><td>another</td><td>1630705356</td><td>e0577fbd716c919f278f03cd8528d783</td><td>AGREE</td><td>1.63000e+12</td><td>Does the agreement lead to peace?</td><td>0</td><td> f </td><td>...</td><td>9</td><td>3</td><td>10.4001</td><td>7.354362</td><td>8.817594</td><td>15.46925</td><td>8.870157</td><td>8.932127</td><td>1.84974</td><td>372.2721</td></tr>\n",
       "\t<tr><td>After the diplomat signs, the agreement creates another border conflict as a side effect.</td><td>8</td><td>another</td><td>1639089322</td><td>1747d390d6731a7cac89f160cbecd085</td><td>AGREE</td><td>1.63909e+12</td><td>Does the agreement lead to peace?</td><td>0</td><td> n </td><td>...</td><td>9</td><td>3</td><td>10.4001</td><td>7.354362</td><td>8.817594</td><td>15.46925</td><td>8.870157</td><td>8.932127</td><td>1.84974</td><td>367.1755</td></tr>\n",
       "\t<tr><td>After the diplomat signs, the agreement creates another border conflict as a side effect.</td><td>8</td><td>another</td><td>1635189532</td><td>1f3195181d005445cbb2a00051dde2d2</td><td>AGREE</td><td>1.63519e+12</td><td>Does the agreement lead to peace?</td><td>0</td><td> f </td><td>...</td><td>9</td><td>3</td><td>10.4001</td><td>7.354362</td><td>8.817594</td><td>15.46925</td><td>8.870157</td><td>8.932127</td><td>1.84974</td><td>337.1942</td></tr>\n",
       "\t<tr><td>After the diplomat signs, the agreement creates another border conflict as a side effect.</td><td>8</td><td>another</td><td>1636482344</td><td>af5d178c58828a26f8823f76b82e343e</td><td>AGREE</td><td>1.64000e+12</td><td>Does the agreement lead to peace?</td><td>0</td><td> p </td><td>...</td><td>9</td><td>3</td><td>10.4001</td><td>7.354362</td><td>8.817594</td><td>15.46925</td><td>8.870157</td><td>8.932127</td><td>1.84974</td><td>420.6281</td></tr>\n",
       "</tbody>\n",
       "</table>\n"
      ],
      "text/latex": [
       "A grouped\\_df: 6 x 52\n",
       "\\begin{tabular}{lllllllllllllllllllll}\n",
       " Sentence & WordPosition & EachWord & Time & MD5 & Type & EventTime & Question.x & Answer & List & ... & length\\_p2 & length\\_p3 & logfreq & logfreq\\_p1 & logfreq\\_p2 & logfreq\\_p3 & surprisal\\_p1 & surprisal\\_p2 & surprisal\\_p3 & predicted\\\\\n",
       " <chr> & <int> & <chr> & <int> & <chr> & <chr> & <dbl> & <chr> & <int> & <chr> & ... & <int> & <int> & <dbl> & <dbl> & <dbl> & <dbl> & <dbl> & <dbl> & <dbl> & <dbl>\\\\\n",
       "\\hline\n",
       "\t After the diplomat signs, the agreement creates another border conflict as a side effect. & 8 & another & 1639090449 & 23bb47ffc97720f565f97e9644e95124 & AGREE & 1.63909e+12 & Does the agreement lead to peace? & 0 &  f  & ... & 9 & 3 & 10.4001 & 7.354362 & 8.817594 & 15.46925 & 8.870157 & 8.932127 & 1.84974 & 564.4141\\\\\n",
       "\t After the diplomat signs, the agreement creates another border conflict as a side effect. & 8 & another & 1635868863 & d29c1f4fdda6be958fa6edad3a6241b1 & AGREE & 1.64000e+12 & Does the agreement lead to peace? & 0 &  f  & ... & 9 & 3 & 10.4001 & 7.354362 & 8.817594 & 15.46925 & 8.870157 & 8.932127 & 1.84974 & 406.8969\\\\\n",
       "\t After the diplomat signs, the agreement creates another border conflict as a side effect. & 8 & another & 1630705356 & e0577fbd716c919f278f03cd8528d783 & AGREE & 1.63000e+12 & Does the agreement lead to peace? & 0 &  f  & ... & 9 & 3 & 10.4001 & 7.354362 & 8.817594 & 15.46925 & 8.870157 & 8.932127 & 1.84974 & 372.2721\\\\\n",
       "\t After the diplomat signs, the agreement creates another border conflict as a side effect. & 8 & another & 1639089322 & 1747d390d6731a7cac89f160cbecd085 & AGREE & 1.63909e+12 & Does the agreement lead to peace? & 0 &  n  & ... & 9 & 3 & 10.4001 & 7.354362 & 8.817594 & 15.46925 & 8.870157 & 8.932127 & 1.84974 & 367.1755\\\\\n",
       "\t After the diplomat signs, the agreement creates another border conflict as a side effect. & 8 & another & 1635189532 & 1f3195181d005445cbb2a00051dde2d2 & AGREE & 1.63519e+12 & Does the agreement lead to peace? & 0 &  f  & ... & 9 & 3 & 10.4001 & 7.354362 & 8.817594 & 15.46925 & 8.870157 & 8.932127 & 1.84974 & 337.1942\\\\\n",
       "\t After the diplomat signs, the agreement creates another border conflict as a side effect. & 8 & another & 1636482344 & af5d178c58828a26f8823f76b82e343e & AGREE & 1.64000e+12 & Does the agreement lead to peace? & 0 &  p  & ... & 9 & 3 & 10.4001 & 7.354362 & 8.817594 & 15.46925 & 8.870157 & 8.932127 & 1.84974 & 420.6281\\\\\n",
       "\\end{tabular}\n"
      ],
      "text/markdown": [
       "\n",
       "A grouped_df: 6 x 52\n",
       "\n",
       "| Sentence &lt;chr&gt; | WordPosition &lt;int&gt; | EachWord &lt;chr&gt; | Time &lt;int&gt; | MD5 &lt;chr&gt; | Type &lt;chr&gt; | EventTime &lt;dbl&gt; | Question.x &lt;chr&gt; | Answer &lt;int&gt; | List &lt;chr&gt; | ... ... | length_p2 &lt;int&gt; | length_p3 &lt;int&gt; | logfreq &lt;dbl&gt; | logfreq_p1 &lt;dbl&gt; | logfreq_p2 &lt;dbl&gt; | logfreq_p3 &lt;dbl&gt; | surprisal_p1 &lt;dbl&gt; | surprisal_p2 &lt;dbl&gt; | surprisal_p3 &lt;dbl&gt; | predicted &lt;dbl&gt; |\n",
       "|---|---|---|---|---|---|---|---|---|---|---|---|---|---|---|---|---|---|---|---|---|\n",
       "| After the diplomat signs, the agreement creates another border conflict as a side effect. | 8 | another | 1639090449 | 23bb47ffc97720f565f97e9644e95124 | AGREE | 1.63909e+12 | Does the agreement lead to peace? | 0 |  f  | ... | 9 | 3 | 10.4001 | 7.354362 | 8.817594 | 15.46925 | 8.870157 | 8.932127 | 1.84974 | 564.4141 |\n",
       "| After the diplomat signs, the agreement creates another border conflict as a side effect. | 8 | another | 1635868863 | d29c1f4fdda6be958fa6edad3a6241b1 | AGREE | 1.64000e+12 | Does the agreement lead to peace? | 0 |  f  | ... | 9 | 3 | 10.4001 | 7.354362 | 8.817594 | 15.46925 | 8.870157 | 8.932127 | 1.84974 | 406.8969 |\n",
       "| After the diplomat signs, the agreement creates another border conflict as a side effect. | 8 | another | 1630705356 | e0577fbd716c919f278f03cd8528d783 | AGREE | 1.63000e+12 | Does the agreement lead to peace? | 0 |  f  | ... | 9 | 3 | 10.4001 | 7.354362 | 8.817594 | 15.46925 | 8.870157 | 8.932127 | 1.84974 | 372.2721 |\n",
       "| After the diplomat signs, the agreement creates another border conflict as a side effect. | 8 | another | 1639089322 | 1747d390d6731a7cac89f160cbecd085 | AGREE | 1.63909e+12 | Does the agreement lead to peace? | 0 |  n  | ... | 9 | 3 | 10.4001 | 7.354362 | 8.817594 | 15.46925 | 8.870157 | 8.932127 | 1.84974 | 367.1755 |\n",
       "| After the diplomat signs, the agreement creates another border conflict as a side effect. | 8 | another | 1635189532 | 1f3195181d005445cbb2a00051dde2d2 | AGREE | 1.63519e+12 | Does the agreement lead to peace? | 0 |  f  | ... | 9 | 3 | 10.4001 | 7.354362 | 8.817594 | 15.46925 | 8.870157 | 8.932127 | 1.84974 | 337.1942 |\n",
       "| After the diplomat signs, the agreement creates another border conflict as a side effect. | 8 | another | 1636482344 | af5d178c58828a26f8823f76b82e343e | AGREE | 1.64000e+12 | Does the agreement lead to peace? | 0 |  p  | ... | 9 | 3 | 10.4001 | 7.354362 | 8.817594 | 15.46925 | 8.870157 | 8.932127 | 1.84974 | 420.6281 |\n",
       "\n"
      ],
      "text/plain": [
       "  Sentence                                                                                 \n",
       "1 After the diplomat signs, the agreement creates another border conflict as a side effect.\n",
       "2 After the diplomat signs, the agreement creates another border conflict as a side effect.\n",
       "3 After the diplomat signs, the agreement creates another border conflict as a side effect.\n",
       "4 After the diplomat signs, the agreement creates another border conflict as a side effect.\n",
       "5 After the diplomat signs, the agreement creates another border conflict as a side effect.\n",
       "6 After the diplomat signs, the agreement creates another border conflict as a side effect.\n",
       "  WordPosition EachWord Time       MD5                              Type \n",
       "1 8            another  1639090449 23bb47ffc97720f565f97e9644e95124 AGREE\n",
       "2 8            another  1635868863 d29c1f4fdda6be958fa6edad3a6241b1 AGREE\n",
       "3 8            another  1630705356 e0577fbd716c919f278f03cd8528d783 AGREE\n",
       "4 8            another  1639089322 1747d390d6731a7cac89f160cbecd085 AGREE\n",
       "5 8            another  1635189532 1f3195181d005445cbb2a00051dde2d2 AGREE\n",
       "6 8            another  1636482344 af5d178c58828a26f8823f76b82e343e AGREE\n",
       "  EventTime   Question.x                        Answer List ... length_p2\n",
       "1 1.63909e+12 Does the agreement lead to peace? 0       f   ... 9        \n",
       "2 1.64000e+12 Does the agreement lead to peace? 0       f   ... 9        \n",
       "3 1.63000e+12 Does the agreement lead to peace? 0       f   ... 9        \n",
       "4 1.63909e+12 Does the agreement lead to peace? 0       n   ... 9        \n",
       "5 1.63519e+12 Does the agreement lead to peace? 0       f   ... 9        \n",
       "6 1.64000e+12 Does the agreement lead to peace? 0       p   ... 9        \n",
       "  length_p3 logfreq logfreq_p1 logfreq_p2 logfreq_p3 surprisal_p1 surprisal_p2\n",
       "1 3         10.4001 7.354362   8.817594   15.46925   8.870157     8.932127    \n",
       "2 3         10.4001 7.354362   8.817594   15.46925   8.870157     8.932127    \n",
       "3 3         10.4001 7.354362   8.817594   15.46925   8.870157     8.932127    \n",
       "4 3         10.4001 7.354362   8.817594   15.46925   8.870157     8.932127    \n",
       "5 3         10.4001 7.354362   8.817594   15.46925   8.870157     8.932127    \n",
       "6 3         10.4001 7.354362   8.817594   15.46925   8.870157     8.932127    \n",
       "  surprisal_p3 predicted\n",
       "1 1.84974      564.4141 \n",
       "2 1.84974      406.8969 \n",
       "3 1.84974      372.2721 \n",
       "4 1.84974      367.1755 \n",
       "5 1.84974      337.1942 \n",
       "6 1.84974      420.6281 "
      ]
     },
     "metadata": {},
     "output_type": "display_data"
    }
   ],
   "source": [
    "head(agree.drop)"
   ]
  },
  {
   "cell_type": "code",
   "execution_count": null,
   "id": "6e2e9a5a",
   "metadata": {},
   "outputs": [],
   "source": []
  }
 ],
 "metadata": {
  "kernelspec": {
   "display_name": "R",
   "language": "R",
   "name": "ir"
  },
  "language_info": {
   "codemirror_mode": "r",
   "file_extension": ".r",
   "mimetype": "text/x-r-source",
   "name": "R",
   "pygments_lexer": "r",
   "version": "4.1.0"
  }
 },
 "nbformat": 4,
 "nbformat_minor": 5
}
